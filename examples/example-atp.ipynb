{
 "cells": [
  {
   "cell_type": "code",
   "execution_count": 4,
   "id": "80b8cc84-a206-468a-ba4c-31c441c04372",
   "metadata": {},
   "outputs": [],
   "source": [
    "import os\n",
    "import sys\n",
    "sys.path.append(\"../NeuralTSNE/\") # Comment out this line if you have NeuralTSNE installed.\n",
    "\n",
    "import numpy as np\n",
    "import pandas as pd\n",
    "import matplotlib.pyplot as plt\n",
    "\n",
    "import torch\n",
    "import NeuralTSNE as ntsne\n",
    "\n",
    "from torch.utils.data import TensorDataset, random_split\n",
    "from pytorch_lightning.callbacks import EarlyStopping\n",
    "from pytorch_lightning import Trainer, seed_everything\n",
    "\n",
    "torch.set_float32_matmul_precision(\"high\")\n",
    "\n",
    "%matplotlib inline"
   ]
  },
  {
   "cell_type": "markdown",
   "id": "5e04fcd8-6af3-44a2-a8a5-573f2443e855",
   "metadata": {},
   "source": [
    "The dataset is alanine tetrapeptide in vaccum, available to download from https://zenodo.org/records/4756093 (`Data-ala3/ala3-vaccum-pt/Ala3-PT.repl0/colvar.0.data`. There are 12 features consisting of the sines and cosines of the dihedral angles. \n",
    "\n",
    "Detailed information about the dataset is described in *Multiscale Reweighted Stochastic Embedding (MRSE): Deep Learning of Collective Variables for Enhanced Sampling* (https://doi.org/10.1021/acs.jpca.1c02869)."
   ]
  },
  {
   "cell_type": "code",
   "execution_count": 5,
   "id": "b09ec7c6-cb78-4cb3-a236-3991e66bfa7a",
   "metadata": {},
   "outputs": [
    {
     "name": "stdout",
     "output_type": "stream",
     "text": [
      "#! FIELDS sin(phi-1) sin(psi-1) sin(phi-2) sin(psi-2) sin(phi-3) sin(psi-3) cos(phi-1) cos(psi-1) cos(phi-2) cos(psi-2) cos(phi-3) cos(psi-3)\n"
     ]
    }
   ],
   "source": [
    "!head -n 1 data/atp-feat-dih.data"
   ]
  },
  {
   "cell_type": "code",
   "execution_count": 7,
   "id": "6c253edc-c65f-4aff-bd53-5a131544bbe8",
   "metadata": {},
   "outputs": [],
   "source": [
    "X = np.loadtxt('data/atp-feat-dih.data')"
   ]
  },
  {
   "cell_type": "code",
   "execution_count": 8,
   "id": "aa5fe05a-f747-4994-94bd-92b079f0e7c0",
   "metadata": {},
   "outputs": [
    {
     "data": {
      "text/plain": [
       "(100001, 12)"
      ]
     },
     "execution_count": 8,
     "metadata": {},
     "output_type": "execute_result"
    }
   ],
   "source": [
    "X.shape"
   ]
  },
  {
   "cell_type": "markdown",
   "id": "067301fd-486f-44ed-9953-e78109a6b656",
   "metadata": {},
   "source": [
    "_Prepare the training and validation data._\n",
    "\n",
    "The validation dataset will be 20% of the total number of samples."
   ]
  },
  {
   "cell_type": "code",
   "execution_count": 9,
   "id": "84667a87-cbdc-4393-a253-45e717c9503e",
   "metadata": {},
   "outputs": [],
   "source": [
    "X = torch.tensor(X, dtype=torch.float32)\n",
    "dataset = TensorDataset(X)\n",
    "\n",
    "valid = 0.2\n",
    "n = len(dataset)\n",
    "n_train = int((1.0 - valid) * n)\n",
    "n_valid = n - n_train\n",
    "train_dataset, valid_dataset = random_split(dataset, [n_train, n_valid])"
   ]
  },
  {
   "cell_type": "markdown",
   "id": "f160c703-2d3b-4bd4-b5ca-1a7408603bfc",
   "metadata": {},
   "source": [
    "_Initialize a neural network to perform dimensionality reduction._\n",
    "\n",
    "The neural network will perform reduction from 12 to 2 dimensions."
   ]
  },
  {
   "cell_type": "code",
   "execution_count": 10,
   "id": "771b0fc9-7f77-4ccf-abb9-264cd4c3c455",
   "metadata": {},
   "outputs": [],
   "source": [
    "multipliers = [0.75, 0.75, 0.75]\n",
    "model = ntsne.TSNE.NeuralNetwork.NeuralNetwork(initial_features=12, n_components=2, multipliers=multipliers)"
   ]
  },
  {
   "cell_type": "markdown",
   "id": "bd239283-bdac-445f-a1fd-103335ac966c",
   "metadata": {},
   "source": [
    "The neural networks with `multipliers` looks like this:"
   ]
  },
  {
   "cell_type": "code",
   "execution_count": 11,
   "id": "8d51727a-8b55-44c5-b34b-4accbe9caa8b",
   "metadata": {},
   "outputs": [
    {
     "data": {
      "text/plain": [
       "NeuralNetwork(\n",
       "  (sequential_stack): Sequential(\n",
       "    (0): Linear(in_features=12, out_features=9, bias=True)\n",
       "    (ReLu0): ReLU()\n",
       "    (1): Linear(in_features=9, out_features=9, bias=True)\n",
       "    (ReLu1): ReLU()\n",
       "    (2): Linear(in_features=9, out_features=9, bias=True)\n",
       "    (ReLu2): ReLU()\n",
       "    (3): Linear(in_features=9, out_features=2, bias=True)\n",
       "  )\n",
       ")"
      ]
     },
     "execution_count": 11,
     "metadata": {},
     "output_type": "execute_result"
    }
   ],
   "source": [
    "model"
   ]
  },
  {
   "cell_type": "markdown",
   "id": "e6e3bd63-53a4-4a7b-a7ce-04af01db8c26",
   "metadata": {},
   "source": [
    "_Initialize parameters for tSNE._\n",
    "\n",
    "We will train the neural network by minimizing the Kullback-Leibler divergence using perplexity of 30 and a batch size of 100."
   ]
  },
  {
   "cell_type": "code",
   "execution_count": null,
   "id": "89f57a16-0a2b-44dd-b644-4ac1313c0cd6",
   "metadata": {},
   "outputs": [],
   "source": [
    "param_tsne = ntsne.TSNE.ParametricTSNE.ParametricTSNE(\n",
    "    loss_fn=\"kl_divergence\",\n",
    "    perplexity=30,\n",
    "    batch_size=1000,\n",
    "    early_exaggeration_epochs=0,\n",
    "    early_exaggeration_value=0,\n",
    "    max_iterations=500,\n",
    "    model=model\n",
    ")"
   ]
  },
  {
   "cell_type": "markdown",
   "id": "f47b8b8b-4c12-4b80-a3d4-572e020a96fd",
   "metadata": {},
   "source": [
    "_Declare a `pytorch_lightning` trainer._\n",
    "\n",
    "We will use a callback to perform early stopping, which works by terminating the learning if the validation loss reaches a required precision.\n",
    "\n",
    "The results will be logged in `default_root_dir/lightning_logs` every 50 steps.\n",
    "\n",
    "Seed is fixed for reproducibility."
   ]
  },
  {
   "cell_type": "code",
   "execution_count": null,
   "id": "5c20e8e8-6e71-4df6-8905-c0a60ecef1ed",
   "metadata": {},
   "outputs": [],
   "source": [
    "seed_everything(seed=42, workers=True)\n",
    "\n",
    "early_stopping = EarlyStopping(monitor=\"val_loss\", min_delta=1e-6, patience=10)\n",
    "\n",
    "trainer = Trainer(\n",
    "    accelerator=\"gpu\" if torch.cuda.is_available() else \"cpu\",\n",
    "    log_every_n_steps=50,\n",
    "    max_epochs=param_tsne.max_iterations,\n",
    "    callbacks=[early_stopping],\n",
    "    default_root_dir=\".\",\n",
    "    deterministic=True # seed\n",
    ")"
   ]
  },
  {
   "cell_type": "code",
   "execution_count": 16,
   "id": "63244e54-dc88-4759-a343-be6d8684692b",
   "metadata": {},
   "outputs": [],
   "source": [
    "reducer = ntsne.TSNE.Modules.DimensionalityReduction(\n",
    "    tsne=param_tsne, \n",
    "    shuffle=False, \n",
    "    optimizer=\"adam\", \n",
    "    lr=1e-3\n",
    ")"
   ]
  },
  {
   "cell_type": "markdown",
   "id": "fd7065fc-06c1-45b6-9884-0c3a1f4d7376",
   "metadata": {},
   "source": [
    "_Prepare dataloaders with the training and validation data._\n",
    "\n",
    "We also create a dataloader for the full dataset."
   ]
  },
  {
   "cell_type": "code",
   "execution_count": 17,
   "id": "fc79bb8f-6cfe-4e22-a3a3-3e8422c143e4",
   "metadata": {},
   "outputs": [],
   "source": [
    "train_dataloader, _ = param_tsne.create_dataloaders(train_dataset, None)\n",
    "valid_dataloader, _ = param_tsne.create_dataloaders(valid_dataset, None)\n",
    "\n",
    "full_dataloader, _ = param_tsne.create_dataloaders(dataset, None)"
   ]
  },
  {
   "cell_type": "markdown",
   "id": "78e67849-03f2-4ee3-8346-fab3dc0e46ff",
   "metadata": {},
   "source": [
    "_Train t-SNE._\n",
    "\n",
    "A previous model can be loaded if it is available."
   ]
  },
  {
   "cell_type": "code",
   "execution_count": null,
   "id": "6bdc95c5-d069-4b20-b550-7720a9ae7285",
   "metadata": {},
   "outputs": [],
   "source": [
    "model_name = \"data/atp-model-dih.pt\"\n",
    "load_model = False\n",
    "\n",
    "if load_model:\n",
    "    param_tsne.read_model(model_name)\n",
    "\n",
    "trainer.fit(reducer, train_dataloaders=train_dataloader, val_dataloaders=[valid_dataloader])\n",
    "\n",
    "param_tsne.save_model(model_name)"
   ]
  },
  {
   "cell_type": "markdown",
   "id": "4ca0afa5-a56d-436b-a011-f731a8c3921f",
   "metadata": {},
   "source": [
    "_Evaluate the model on all available samples from the dataset._"
   ]
  },
  {
   "cell_type": "code",
   "execution_count": null,
   "id": "a43cf8a2-ced0-4591-a558-c50bd3525e66",
   "metadata": {},
   "outputs": [],
   "source": [
    "Z = trainer.predict(reducer, full_dataloader)\n",
    "Z = np.concatenate(Z, axis=0)"
   ]
  },
  {
   "cell_type": "markdown",
   "id": "6a67943b-d978-48b4-b435-c6d924c8700c",
   "metadata": {},
   "source": [
    "_Save the mapped samples in reduced space._"
   ]
  },
  {
   "cell_type": "code",
   "execution_count": 20,
   "id": "3d838685-0928-47fa-ba7a-b5b17d009238",
   "metadata": {},
   "outputs": [],
   "source": [
    "np.savetxt(\"data/atp-colvar-dih.data\", Z)"
   ]
  },
  {
   "cell_type": "markdown",
   "id": "48ff4b6e-f15f-477a-8e27-6a1df33651ca",
   "metadata": {},
   "source": [
    "_Plot the results._"
   ]
  },
  {
   "cell_type": "code",
   "execution_count": 23,
   "id": "055dbb28-4060-46a5-9644-a73ec5a092bb",
   "metadata": {},
   "outputs": [
    {
     "data": {
      "image/png": "[encoded data removed]",
      "text/plain": [
       "<Figure size 600x800 with 2 Axes>"
      ]
     },
     "metadata": {},
     "output_type": "display_data"
    }
   ],
   "source": [
    "fig, ax = plt.subplots(2, 1, figsize=(6, 8))\n",
    "\n",
    "sctr = ax[0].scatter(Z[:,0], Z[:, 1])\n",
    "\n",
    "sctr = ax[1].scatter(Z[:,0], Z[:, 1])\n",
    "\n",
    "plt.tight_layout()"
   ]
  },
  {
   "cell_type": "markdown",
   "id": "57277955-d63b-4e9a-aa06-302f409ad9b6",
   "metadata": {},
   "source": [
    "_Plot training curves from logged results._"
   ]
  },
  {
   "cell_type": "code",
   "execution_count": 27,
   "id": "450e4638-f945-49cf-a1a3-37f3cda0169e",
   "metadata": {},
   "outputs": [],
   "source": [
    "run_number = 0\n",
    "\n",
    "log = pd.read_csv(\"lightning_logs/version_\" + str(run_number) + \"/metrics.csv\")"
   ]
  },
  {
   "cell_type": "code",
   "execution_count": 28,
   "id": "c7e3ef5e-ca9e-4f55-8d0a-6e630c74a554",
   "metadata": {},
   "outputs": [
    {
     "data": {
      "text/html": [
       "<div>\n",
       "<style scoped>\n",
       "    .dataframe tbody tr th:only-of-type {\n",
       "        vertical-align: middle;\n",
       "    }\n",
       "\n",
       "    .dataframe tbody tr th {\n",
       "        vertical-align: top;\n",
       "    }\n",
       "\n",
       "    .dataframe thead th {\n",
       "        text-align: right;\n",
       "    }\n",
       "</style>\n",
       "<table border=\"1\" class=\"dataframe\">\n",
       "  <thead>\n",
       "    <tr style=\"text-align: right;\">\n",
       "      <th></th>\n",
       "      <th>epoch</th>\n",
       "      <th>step</th>\n",
       "      <th>train_loss</th>\n",
       "      <th>val_loss</th>\n",
       "    </tr>\n",
       "  </thead>\n",
       "  <tbody>\n",
       "    <tr>\n",
       "      <th>0</th>\n",
       "      <td>0</td>\n",
       "      <td>79</td>\n",
       "      <td>NaN</td>\n",
       "      <td>3.183048</td>\n",
       "    </tr>\n",
       "    <tr>\n",
       "      <th>1</th>\n",
       "      <td>0</td>\n",
       "      <td>79</td>\n",
       "      <td>3.332674</td>\n",
       "      <td>NaN</td>\n",
       "    </tr>\n",
       "    <tr>\n",
       "      <th>2</th>\n",
       "      <td>1</td>\n",
       "      <td>159</td>\n",
       "      <td>NaN</td>\n",
       "      <td>2.180909</td>\n",
       "    </tr>\n",
       "    <tr>\n",
       "      <th>3</th>\n",
       "      <td>1</td>\n",
       "      <td>159</td>\n",
       "      <td>2.708722</td>\n",
       "      <td>NaN</td>\n",
       "    </tr>\n",
       "    <tr>\n",
       "      <th>4</th>\n",
       "      <td>2</td>\n",
       "      <td>239</td>\n",
       "      <td>NaN</td>\n",
       "      <td>1.807909</td>\n",
       "    </tr>\n",
       "    <tr>\n",
       "      <th>...</th>\n",
       "      <td>...</td>\n",
       "      <td>...</td>\n",
       "      <td>...</td>\n",
       "      <td>...</td>\n",
       "    </tr>\n",
       "    <tr>\n",
       "      <th>833</th>\n",
       "      <td>416</td>\n",
       "      <td>33359</td>\n",
       "      <td>0.858242</td>\n",
       "      <td>NaN</td>\n",
       "    </tr>\n",
       "    <tr>\n",
       "      <th>834</th>\n",
       "      <td>417</td>\n",
       "      <td>33439</td>\n",
       "      <td>NaN</td>\n",
       "      <td>0.859873</td>\n",
       "    </tr>\n",
       "    <tr>\n",
       "      <th>835</th>\n",
       "      <td>417</td>\n",
       "      <td>33439</td>\n",
       "      <td>0.858240</td>\n",
       "      <td>NaN</td>\n",
       "    </tr>\n",
       "    <tr>\n",
       "      <th>836</th>\n",
       "      <td>418</td>\n",
       "      <td>33519</td>\n",
       "      <td>NaN</td>\n",
       "      <td>0.859812</td>\n",
       "    </tr>\n",
       "    <tr>\n",
       "      <th>837</th>\n",
       "      <td>418</td>\n",
       "      <td>33519</td>\n",
       "      <td>0.858212</td>\n",
       "      <td>NaN</td>\n",
       "    </tr>\n",
       "  </tbody>\n",
       "</table>\n",
       "<p>838 rows × 4 columns</p>\n",
       "</div>"
      ],
      "text/plain": [
       "     epoch   step  train_loss  val_loss\n",
       "0        0     79         NaN  3.183048\n",
       "1        0     79    3.332674       NaN\n",
       "2        1    159         NaN  2.180909\n",
       "3        1    159    2.708722       NaN\n",
       "4        2    239         NaN  1.807909\n",
       "..     ...    ...         ...       ...\n",
       "833    416  33359    0.858242       NaN\n",
       "834    417  33439         NaN  0.859873\n",
       "835    417  33439    0.858240       NaN\n",
       "836    418  33519         NaN  0.859812\n",
       "837    418  33519    0.858212       NaN\n",
       "\n",
       "[838 rows x 4 columns]"
      ]
     },
     "execution_count": 28,
     "metadata": {},
     "output_type": "execute_result"
    }
   ],
   "source": [
    "log"
   ]
  },
  {
   "cell_type": "code",
   "execution_count": 30,
   "id": "b3f03e79-2e84-4bfa-b637-c8833233d33f",
   "metadata": {},
   "outputs": [
    {
     "data": {
      "text/plain": [
       "<matplotlib.legend.Legend at 0x165441040>"
      ]
     },
     "execution_count": 30,
     "metadata": {},
     "output_type": "execute_result"
    },
    {
     "data": {
      "image/png": "[encoded data removed]",
      "text/plain": [
       "<Figure size 600x400 with 1 Axes>"
      ]
     },
     "metadata": {},
     "output_type": "display_data"
    }
   ],
   "source": [
    "fig, ax = plt.subplots(1, 1, figsize=(6, 4))\n",
    "\n",
    "ax.scatter(log['epoch'], log['train_loss'], label='validation loss', marker='x')\n",
    "ax.scatter(log['epoch'], log['val_loss'], label='training loss', marker='.')\n",
    "ax.set_xlabel('epoch')\n",
    "ax.set_ylabel('loss')\n",
    "\n",
    "plt.legend()"
   ]
  },
  {
   "cell_type": "code",
   "execution_count": null,
   "id": "fce4248e-4190-4e6a-93ee-4b9eb758fb32",
   "metadata": {},
   "outputs": [],
   "source": []
  }
 ],
 "metadata": {
  "kernelspec": {
   "display_name": "Python 3 (ipykernel)",
   "language": "python",
   "name": "python3"
  },
  "language_info": {
   "codemirror_mode": {
    "name": "ipython",
    "version": 3
   },
   "file_extension": ".py",
   "mimetype": "text/x-python",
   "name": "python",
   "nbconvert_exporter": "python",
   "pygments_lexer": "ipython3",
   "version": "3.12.9"
  }
 },
 "nbformat": 4,
 "nbformat_minor": 5
}
